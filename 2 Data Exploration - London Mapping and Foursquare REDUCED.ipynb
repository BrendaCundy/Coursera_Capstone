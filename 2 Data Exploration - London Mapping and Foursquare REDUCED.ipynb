{
 "cells": [
  {
   "cell_type": "code",
   "execution_count": null,
   "id": "d466c863-4975-47a0-948e-9d2c65631b9e",
   "metadata": {},
   "outputs": [],
   "source": [
    "try:\n",
    "    print(\"Importing libraries...\\n\")\n",
    "    from progressbar import ProgressBar\n",
    "    from bs4 import BeautifulSoup as bts # library for web scraping\n",
    "    import numpy as np # library to handle data in a vectorized manner\n",
    "    import pandas as pd # library for data analysis\n",
    "    from pandas.io.json import json_normalize\n",
    "    import matplotlib.cm as cm\n",
    "    import matplotlib.colors as colors\n",
    "    import requests # library to handle requests\n",
    "    from geopy.geocoders import Nominatim # convert an address into latitude and longitude values\n",
    "    import matplotlib as mp # library for visualization\n",
    "    from sklearn.cluster import KMeans # import k-means from clustering stage\n",
    "    from geopy.geocoders import Nominatim # convert an address into latitude and longitude values\n",
    "    import folium # map rendering library\n",
    "    import lxml\n",
    "    import re\n",
    "    from time import sleep\n",
    "    \n",
    "    from matplotlib import pyplot as plt\n",
    "    from matplotlib.pyplot import figure\n",
    "    \n",
    "    import datetime\n",
    "    import dateutil\n",
    "    print(\"All libraries imported successfully!\\n\")\n",
    "except:\n",
    "    print(\"ERROR: Could not import all libraries!\\n\")\n",
    "\n",
    "%matplotlib inline\n"
   ]
  },
  {
   "cell_type": "markdown",
   "id": "938b5576-d4e8-4cac-8b30-02048bb35e2e",
   "metadata": {},
   "source": [
    "# Mapping London"
   ]
  },
  {
   "cell_type": "code",
   "execution_count": null,
   "id": "a4e35eca-659e-4d2a-a842-26b84e97cb83",
   "metadata": {},
   "outputs": [],
   "source": [
    "address = 'London'\n",
    "\n",
    "geolocator = Nominatim(user_agent=\"ldn_explorer\")\n",
    "location = geolocator.geocode(address)\n",
    "latitude = location.latitude\n",
    "longitude = location.longitude\n",
    "print('The geograpical coordinate of London are {}, {}.'.format(latitude, longitude))"
   ]
  },
  {
   "cell_type": "markdown",
   "id": "af5d1bb4-c9d8-475c-9997-ca06b42f6d35",
   "metadata": {},
   "source": [
    "## 1. Boroughs"
   ]
  },
  {
   "cell_type": "markdown",
   "id": "930c29b8-1c53-4e13-b965-85e5eb1b9e4e",
   "metadata": {},
   "source": [
    "London can be subdivided into boroughs.  This is available as an geojson overlay 'london_boroughs_proper.geojson' Much of the data provided at the London data store is a borough level."
   ]
  },
  {
   "cell_type": "code",
   "execution_count": null,
   "id": "7535ac5a-79a1-4206-857f-34e4c80ab475",
   "metadata": {},
   "outputs": [],
   "source": [
    "# create map\n",
    "lnd_geo = r'london_boroughs_proper.geojson'\n",
    "lnd_map = folium.Map(location = [latitude, longitude], zoom_start = 10)\n",
    "\n",
    "folium.GeoJson(lnd_geo, name=\"geojson\").add_to(lnd_map)\n",
    "\n",
    "lnd_map"
   ]
  },
  {
   "cell_type": "code",
   "execution_count": null,
   "id": "2c9f2cb9-76aa-4033-a9f3-4c2035f21f56",
   "metadata": {},
   "outputs": [],
   "source": []
  },
  {
   "cell_type": "markdown",
   "id": "2d97e476-7408-46fc-8d55-12f0f2ce2043",
   "metadata": {},
   "source": [
    "## 2. Wards"
   ]
  },
  {
   "cell_type": "code",
   "execution_count": null,
   "id": "64741ca7-5e08-40b3-b585-9c4d049949a4",
   "metadata": {},
   "outputs": [],
   "source": []
  },
  {
   "cell_type": "code",
   "execution_count": null,
   "id": "6ede52c4-0770-498e-810d-9e0846901529",
   "metadata": {},
   "outputs": [],
   "source": [
    "# create map\n",
    "lnd_ward_geo = r'london-wards-2014.geojson'\n",
    "lnd_map = folium.Map(location = [latitude, longitude], zoom_start = 10)\n",
    "\n",
    "#london_merged['Borough label']= london_merged.index\n",
    "\n",
    "\n",
    "folium.GeoJson(lnd_ward_geo, name=\"geojson\").add_to(lnd_map)\n",
    "lnd_map"
   ]
  },
  {
   "cell_type": "markdown",
   "id": "91a9f503-92b7-46e5-9c67-b5d9db47b5dc",
   "metadata": {},
   "source": [
    "## 3. Neighbourhoods"
   ]
  },
  {
   "cell_type": "markdown",
   "id": "49247bbe-e314-4146-bb08-08dda79c3af7",
   "metadata": {},
   "source": [
    "Rather than modern political divisions, london communities centre around neighbourhhods, often based on old parishes and monor houses, oftem predating the expansion of London.\n",
    "\n",
    "No official data on these neighbourhoods sourced, but a list located on Wikipedia.  Many of these neighbourhoods are geocodable, so the wikipedia list can be webscrapped and geolocator used to obtain coordinates."
   ]
  },
  {
   "cell_type": "markdown",
   "id": "8b1376b2-d953-4217-9edf-167c25ae04a7",
   "metadata": {},
   "source": [
    "> Scrape the table of neighbourhoods from wikipedia using beautiful soup"
   ]
  },
  {
   "cell_type": "code",
   "execution_count": null,
   "id": "05388441-5868-475e-b415-467eb35f96e1",
   "metadata": {},
   "outputs": [],
   "source": [
    "london_source  = requests.get('https://en.wikipedia.org/wiki/List_of_areas_of_London').text\n",
    "london_soup = bts(london_source,'lxml')\n",
    "london_table = london_soup.findAll('table',  class_=\"wikitable sortable\")    \n",
    "wiki_df = pd.read_html(str(london_table))\n",
    "wiki_df = pd.concat(wiki_df)\n",
    "wiki_df.head()"
   ]
  },
  {
   "cell_type": "markdown",
   "id": "d563189b-695e-414e-b2ce-7da23dab10c7",
   "metadata": {},
   "source": [
    "**Observation:** Neighbourhoods can cross London boroughs"
   ]
  },
  {
   "cell_type": "code",
   "execution_count": null,
   "id": "7c6956de-2a98-483f-9931-9db958f6b8a3",
   "metadata": {},
   "outputs": [],
   "source": [
    "print( 'The list contains {} London Neighbourhoods'.format(len(wiki_df['Location'].unique())))"
   ]
  },
  {
   "cell_type": "markdown",
   "id": "ca832148-ce71-43f2-8ee1-7e9ccbc66279",
   "metadata": {},
   "source": [
    "### Clean neighbourhood data"
   ]
  },
  {
   "cell_type": "markdown",
   "id": "c3593903-32bc-4cd3-ba09-c6761598cd4c",
   "metadata": {},
   "source": [
    "> Check whether any locations contain characters other than letters and spaces"
   ]
  },
  {
   "cell_type": "code",
   "execution_count": null,
   "id": "55248792-d526-451c-b443-55ad30b07bb4",
   "metadata": {},
   "outputs": [],
   "source": [
    "wiki_df[wiki_df['Location'].str.replace(\" \", \"\").str.isalpha()==False]"
   ]
  },
  {
   "cell_type": "markdown",
   "id": "32c3529a-1844-4a00-84e1-b12646d71108",
   "metadata": {},
   "source": [
    "> Clean the data in the location column - remove notes in brackets and additional spaces"
   ]
  },
  {
   "cell_type": "code",
   "execution_count": null,
   "id": "2f12984d-c653-43ab-8006-50cd2ba57e5b",
   "metadata": {},
   "outputs": [],
   "source": [
    "# remove (...) from location\n",
    "wiki_df['Location'] =  wiki_df['Location'].str.replace(r\"\\(.*\\)\",\"\")\n",
    "#remove trailing/leading spaces\n",
    "wiki_df['Location'] = wiki_df['Location'].str.strip()\n",
    "\n",
    "wiki_df[wiki_df['Location'].str.replace(\" \", \"\").str.isalpha()==False]  #check the cleaned values to confirm brackets have been removed"
   ]
  },
  {
   "cell_type": "markdown",
   "id": "9f6cb53d-3665-4a0b-a5a4-5c278463f710",
   "metadata": {},
   "source": [
    "> Obtain coordinates for each neighbourhood.  This is done using geolocator.  Due to timeout issues, not all coordinates have been retrieved first pass, so this code has been designed to be rerunable to retry locations where data is absent"
   ]
  },
  {
   "cell_type": "code",
   "execution_count": null,
   "id": "dc6faf7a-c856-4177-a717-79e7aa182134",
   "metadata": {},
   "outputs": [],
   "source": [
    "wiki_df['latitude'] = np.nan # add lattitude column, set to not a number, this can then be used to test whether a neighbourhood has had co-ordinates added"
   ]
  },
  {
   "cell_type": "code",
   "execution_count": null,
   "id": "0224f1a6-93df-4a50-836b-ff3d087efb00",
   "metadata": {},
   "outputs": [],
   "source": [
    "##Rerunable if geolacter errors.\n",
    "\n",
    "for  idx,ref, place, lat in zip(wiki_df.index, wiki_df['OS grid ref'], wiki_df['Location'], wiki_df['latitude']):\n",
    "    \n",
    "    if np.isnan(wiki_df.loc[idx, 'latitude'])==True:  #If no latitude value recorded for the location\n",
    "        geolocator = Nominatim(user_agent=\"ldn_explorer\")    \n",
    "        try:\n",
    "            location = geolocator.geocode(place + \", London, United Kingdom\")\n",
    "        except:\n",
    "            print('Geocoder error ' + place) # This error indicates issue accessing geolocator\n",
    "    \n",
    "        try:\n",
    "        \n",
    "            wiki_df.loc[idx, 'latitude'] = location.latitude\n",
    "            wiki_df.loc[idx, 'longitude'] = location.longitude\n",
    "            print('The geograpical coordinate of {} is {}, {}.'.format(place,location.latitude, location.longitude))\n",
    "        except:\n",
    "            print(\"Error \" + place) #This indicates geolocator returned a response, but it was not coordinates - ie the neighbourhood was not geocodable\n",
    "    else:\n",
    "        print(place +' already has latitude ' + str(lat))"
   ]
  },
  {
   "cell_type": "markdown",
   "id": "5db3d050-6a6c-4546-a450-e548a510b251",
   "metadata": {},
   "source": [
    "**Observation:** Two neighbourhoods Somerstown and Aldborough Hatch are not geocodable. Coordinates have been obtained for the other neigbourhoods. \n",
    "\n",
    "**Data Validation:**    A sense check has been applied to validate this data, all laitidues  truncate to 51, all longitigues are around 0.  This indicates geolocater has correctly decoded the neighbourhoods."
   ]
  },
  {
   "cell_type": "code",
   "execution_count": null,
   "id": "87365f20-e10f-41e2-a52f-1c3ed34965cd",
   "metadata": {},
   "outputs": [],
   "source": [
    "wiki_df.tail()"
   ]
  },
  {
   "cell_type": "markdown",
   "id": "ec3e4db0-499f-47a2-b422-2cd413125867",
   "metadata": {},
   "source": [
    "> Remove the two neighbourhoods which were not geocodable (ie have no latitude data)"
   ]
  },
  {
   "cell_type": "code",
   "execution_count": null,
   "id": "9faed59c-9526-47f0-bf19-c8457af1fdce",
   "metadata": {},
   "outputs": [],
   "source": [
    "wiki_df.dropna(axis=0, inplace=True)"
   ]
  },
  {
   "cell_type": "markdown",
   "id": "068a10c2-a0ed-461c-952a-07300574b43c",
   "metadata": {},
   "source": [
    "> Save scraped Neigbourhood list and obtained cooridinates for use in later analysis"
   ]
  },
  {
   "cell_type": "code",
   "execution_count": null,
   "id": "64d0d9c5-73f6-4c13-81d5-8dcb0119f7eb",
   "metadata": {},
   "outputs": [],
   "source": [
    "#HACK save/reload data to avoid unnessary API calls and enable analysis off line\n",
    "wiki_df.to_csv('london_neighbourhoods.csv')\n",
    "#wiki_df=pd.read_csv('london_neighbourhoods.csv')"
   ]
  },
  {
   "cell_type": "markdown",
   "id": "fff4cf0f-8cbc-42f8-80a8-41dcdcb1ab2e",
   "metadata": {},
   "source": [
    "### Neighbourhoods in relation to wards"
   ]
  },
  {
   "cell_type": "markdown",
   "id": "1633c64b-c44a-45f7-8c2d-efbabffe8765",
   "metadata": {},
   "source": [
    "The neighbourhoods can be plotted with the ward boundaries superimposed"
   ]
  },
  {
   "cell_type": "code",
   "execution_count": null,
   "id": "a688ba89-f8bd-4217-b8e2-ee6e3fe6204e",
   "metadata": {},
   "outputs": [],
   "source": [
    "\n",
    "\n",
    "lnd_ward_geo =  r'london-wards-2014.geojson'\n",
    "\n",
    "lnd_map = folium.Map(location = [latitude, longitude], zoom_start = 10)\n",
    "\n",
    "#london_merged['Borough label']= london_merged.index\n",
    "\n",
    "\n",
    "folium.GeoJson(lnd_ward_geo, name=\"geojson\").add_to(lnd_map)\n",
    "\n",
    "# add markers to the map\n",
    "markers_colors = []\n",
    "for lat, lon, name in zip(wiki_df['latitude'], wiki_df['longitude'], wiki_df['Location']):\n",
    "    label = folium.Popup(name , parse_html=True)\n",
    "    folium.CircleMarker(\n",
    "        [lat, lon],\n",
    "        radius=5,\n",
    "        popup=label,\n",
    "        color=1,\n",
    "        fill=True,\n",
    "        fill_color=1,\n",
    "        fill_opacity=0.7).add_to(lnd_map)\n",
    "       \n",
    "lnd_map"
   ]
  },
  {
   "cell_type": "markdown",
   "id": "e89c88f2-df7c-4d63-99c7-5d367cb1eb3e",
   "metadata": {},
   "source": [
    "**Observation:** Both ward and neighbourhoods provide a reasonable granular coverage of london. Ward data is comprehensive, covering all of London, whereas the neighbourhoods provide a good sample across London.\n",
    "\n",
    "**Conclusion:** A visualisation of ward level data compared with neighbourhood data, may have potential for providing meaningful insights"
   ]
  },
  {
   "cell_type": "markdown",
   "id": "1c6343ef-212c-41ea-a0fa-953dd4beff8c",
   "metadata": {},
   "source": [
    "# Obtaining Foursquare data\n",
    "\n",
    "## Introduction to Foursquare API\n",
    "\n",
    "The Foursquare API returns venues in a location based on either a location coordinate or a geocodable place name.  The explore endpoint proritises recommended locations.  "
   ]
  },
  {
   "cell_type": "code",
   "execution_count": null,
   "id": "5658c7db-82e4-4a32-803f-db280950a433",
   "metadata": {},
   "outputs": [],
   "source": [
    " \n",
    "CLIENT_ID = 'LHONXSF1T2PNUTZN2Q1S0RQNLFWUB1HJPLNCLUFKI52SKHLN' #  Foursquare ID\n",
    "CLIENT_SECRET = 'R4ODYYK4LQSB1MC1QHY0BP1CQJN2XO0NP5BDZASI55KS4JPE' #  Foursquare Secret (note this will be manually reset after uploading to GITHUB)\n"
   ]
  },
  {
   "cell_type": "code",
   "execution_count": null,
   "id": "425be9fe-e7a3-4ede-bb6d-6a2d6ad4f65b",
   "metadata": {},
   "outputs": [],
   "source": [
    "\n",
    "VERSION = '20180605' # Foursquare API version\n",
    "LIMIT = 150 # A default Foursquare API limit value"
   ]
  },
  {
   "cell_type": "markdown",
   "id": "ac1e8c46-0b85-4030-b288-4fd9c1ec753e",
   "metadata": {},
   "source": [
    "## 1. Borough"
   ]
  },
  {
   "cell_type": "markdown",
   "id": "827c1710-8672-425a-b7f4-ce2081bc2f2d",
   "metadata": {},
   "source": [
    "An assessment of the best method of obtaining London borough level venue data from Foursquare API"
   ]
  },
  {
   "cell_type": "markdown",
   "id": "2f48d5fd-1770-4bde-a7be-bf3117acfcbb",
   "metadata": {},
   "source": [
    "### Using Borough Coordinates with Foursquare API\n",
    "\n",
    "A point within each London borough can be located, and venues returned within a radius around this point.  To use this approach suitable coordinates should be identified.  "
   ]
  },
  {
   "cell_type": "markdown",
   "id": "c8f19626-659d-4127-9a8c-9bd53f07cad4",
   "metadata": {},
   "source": [
    "#### Borough Cooridinates obtained from Geolocator"
   ]
  },
  {
   "cell_type": "markdown",
   "id": "a7d1def4-2d16-4a21-96fc-9276b44a1e76",
   "metadata": {},
   "source": [
    "> First obtian a list of London Boroughs, sourcing this from the UK government London datastore. Also retrieving population data for use in data exploration"
   ]
  },
  {
   "cell_type": "code",
   "execution_count": null,
   "id": "9d8b32e0-8376-4946-a2d9-23caf6d75988",
   "metadata": {},
   "outputs": [],
   "source": [
    "#london borough list\n",
    "file ='https://data.london.gov.uk/download/london-borough-profiles/c1693b82-68b1-44ee-beb2-3decf17dc1f8/london-borough-profiles.csv'\n",
    "boroughsData= pd.read_csv(file, encoding='latin1')\n",
    "#lots of interesting data, but for this just want list of london boroughs\n",
    "boroughs=pd.DataFrame(columns= ['Borough'])\n",
    "boroughs['Borough']=boroughsData['Area_name']\n",
    "boroughs['Population']=boroughsData['GLA_Population_Estimate_2017']\n",
    "boroughs.set_index('Borough', inplace=True)\n",
    "boroughs.head()"
   ]
  },
  {
   "cell_type": "markdown",
   "id": "2b6d10b4-da1e-44ec-8e8a-7dffda30dc63",
   "metadata": {},
   "source": [
    "> The Borough list also contains summary statistics, remove these rows.  "
   ]
  },
  {
   "cell_type": "code",
   "execution_count": null,
   "id": "5664cb3c-9805-47c6-a845-0b1ded813b1a",
   "metadata": {},
   "outputs": [],
   "source": [
    "\n",
    "boroughs.drop(index=['Inner London','Outer London', 'London', 'England', 'United Kingdom'], axis = 0, inplace=True)"
   ]
  },
  {
   "cell_type": "markdown",
   "id": "4ff91db9-810a-4a8c-933b-99151a94bae5",
   "metadata": {},
   "source": [
    "> Add longitude and lattidue columns to the borough list, and loop through using geolocator to obtain co-ordinates.  Note that \"City of London is not technically a London borough so is geocoded differently."
   ]
  },
  {
   "cell_type": "code",
   "execution_count": null,
   "id": "8a7c03d0-014c-4894-96a3-6b1601dc41ec",
   "metadata": {},
   "outputs": [],
   "source": [
    "boroughs['longitude']=0\n",
    "boroughs['latitude']=0"
   ]
  },
  {
   "cell_type": "code",
   "execution_count": null,
   "id": "dde29d10-87b4-4737-b11c-eb4fd1358a2c",
   "metadata": {},
   "outputs": [],
   "source": [
    "\n",
    "for borough in boroughs.index:\n",
    "    geolocator = Nominatim(user_agent=\"ldn_explorer\")    \n",
    "    if borough!= 'City of London':\n",
    "        location = geolocator.geocode(\"The London Borough of \" + borough+ \", London\")\n",
    "    else:\n",
    "        location = geolocator.geocode(borough+ \", London\")\n",
    "    boroughs.loc[borough, 'latitude'] = location.latitude\n",
    "    boroughs.loc[borough, 'longitude'] = location.longitude\n",
    "    print('The geograpical coordinate of {} is {}, {}.'.format(borough,location.latitude, location.longitude))"
   ]
  },
  {
   "cell_type": "code",
   "execution_count": null,
   "id": "55913efd-ef4f-4b99-9cfd-9fb715c895f2",
   "metadata": {},
   "outputs": [],
   "source": [
    "boroughs.head()"
   ]
  },
  {
   "cell_type": "code",
   "execution_count": null,
   "id": "654874f6-f416-4801-a288-90fe6f9dea74",
   "metadata": {},
   "outputs": [],
   "source": [
    "lnd_geo = r'london_boroughs_proper.geojson'\n",
    "lnd_map = folium.Map(location = [latitude, longitude], zoom_start = 10)\n",
    "\n",
    "boroughs['Borough']= boroughs.index.str.strip()\n",
    "\n",
    "lnd_map.choropleth(\n",
    "    geo_data=lnd_geo,\n",
    "    data=boroughs,\n",
    "    columns=['Borough','Population'],\n",
    "    key_on='feature.properties.name',\n",
    "    fill_color='RdPu', \n",
    "    fill_opacity=0.7, \n",
    "    line_opacity=0.2,\n",
    "    legend_name='Population'\n",
    ")\n",
    "# add markers to the map\n",
    "markers_colors = []\n",
    "for lat, lon, poi in zip(boroughs['latitude'], boroughs['longitude'], boroughs.index):\n",
    "    label = folium.Popup(str(poi) , parse_html=True)\n",
    "    folium.CircleMarker(\n",
    "        [lat, lon],\n",
    "        radius=5,\n",
    "        popup=label,\n",
    "        color=1,\n",
    "        fill=True,\n",
    "        fill_color=1,\n",
    "        fill_opacity=0.7).add_to(lnd_map)\n",
    "       \n",
    "lnd_map"
   ]
  },
  {
   "cell_type": "markdown",
   "id": "9863b365-7c8b-4f87-a778-b1a16a9cf051",
   "metadata": {},
   "source": [
    "With the exception of Westminster the coordinates appear to be in the centre of each borough - based on the extremes.  The Wiestminster location looks wrong - showing maybe tube station not centre of borough - this could be because it is coomonly refered to as \"The city of Westminster\" rather than as a London borough.\n",
    "\n",
    "> Search for better Westminster coordinates and add to map"
   ]
  },
  {
   "cell_type": "code",
   "execution_count": null,
   "id": "48ea5957-039a-49c5-84ac-fe9e7e11a8f5",
   "metadata": {},
   "outputs": [],
   "source": [
    "\n",
    "address = 'City of Westminster'\n",
    "\n",
    "geolocator = Nominatim(user_agent=\"ldn_explorer\")\n",
    "wmlocation = geolocator.geocode(address)\n",
    "wmlatitude = wmlocation.latitude\n",
    "wmlongitude = wmlocation.longitude\n",
    "print('The geograpical coordinate of Westminster are {}, {}.'.format(wmlatitude, wmlongitude))\n",
    "\n",
    "boroughs.loc['Westminster', 'longitude']=wmlongitude\n",
    "boroughs.loc['Westminster', 'latitude']=wmlatitude"
   ]
  },
  {
   "cell_type": "code",
   "execution_count": null,
   "id": "6351f244-27ea-4356-8bf0-a09413ff3f97",
   "metadata": {},
   "outputs": [],
   "source": [
    "lnd_geo = r'london_boroughs_proper.geojson'\n",
    "lnd_map = folium.Map(location = [latitude, longitude], zoom_start = 10)\n",
    "\n",
    "lnd_map.choropleth(\n",
    "    geo_data=lnd_geo,\n",
    "    data=boroughs,\n",
    "    columns=['Borough','Population'],\n",
    "    key_on='feature.properties.name',\n",
    "    fill_color='RdPu', \n",
    "    fill_opacity=0.7, \n",
    "    line_opacity=0.2,\n",
    "    legend_name='Population'\n",
    ")\n",
    "# add markers to the map\n",
    "markers_colors = []\n",
    "for lat, lon, poi in zip(boroughs['latitude'], boroughs['longitude'], boroughs.index):\n",
    "    label = folium.Popup(str(poi) , parse_html=True)\n",
    "    folium.CircleMarker(\n",
    "        [lat, lon],\n",
    "        radius=5,\n",
    "        popup=label,\n",
    "        color=1,\n",
    "        fill=True,\n",
    "        fill_color=1,\n",
    "        fill_opacity=0.7).add_to(lnd_map)\n",
    "       \n",
    "lnd_map"
   ]
  },
  {
   "cell_type": "markdown",
   "id": "ed0e4629-7ba2-4cfa-b2cd-75b2aa96b466",
   "metadata": {},
   "source": [
    "Wesminster is now located more within the Borough.\n",
    "\n",
    "**Observation:**\n",
    "These locations could be used for obtaining venue data (ie by searching for venues within a fixed radius around the borough), subject to the following challenges:\n",
    "1. The centre of the borough may or may not be close to where venues are located, this is particularly relevant in larger outer London boroughs.\n",
    "2. The slice of a borough taken by searching a radius around a central point may or may not be representative of the borough.\n",
    "3. Due to the irregular shapes of London bororughs the centre points can be very close to borough boundaries, so venues returned are likely to be from other boroughs.\n",
    "4. An apporiate radius of inner London boroughs (which are smaller, and may have venues more densely located)  may not be appropriate for outer London boroughs\n",
    "\n",
    "**Conclusion:** Given these limitations, the robustness of any analysis on the areas will be compromised, therefore a better approach is requrired"
   ]
  },
  {
   "cell_type": "markdown",
   "id": "3f46552a-4051-4854-8b30-f5d1b7f0a2b5",
   "metadata": {},
   "source": [
    "### Using Borough Name with Foursquare API"
   ]
  },
  {
   "cell_type": "markdown",
   "id": "fe031854-fd53-4b50-bc30-2b86ca171e03",
   "metadata": {},
   "source": [
    "The Foursquare API recognises London Boroughs.  This is a validation and exploration of the data returned"
   ]
  },
  {
   "cell_type": "markdown",
   "id": "a1499943-7e49-4f99-8c36-94c01361c659",
   "metadata": {},
   "source": [
    "> Define a function to obtain data per borough.  Note that Forusquare does not recognise Westminster as a borough"
   ]
  },
  {
   "cell_type": "code",
   "execution_count": null,
   "id": "d7f7e6a8-275b-43b7-b286-ccb792a355bf",
   "metadata": {},
   "outputs": [],
   "source": [
    "def getLondonBoroughVenues(boroughs):\n",
    "    \n",
    "    venues_list=[]\n",
    "    for borough in boroughs:\n",
    "        print(borough)\n",
    "        \n",
    "        if borough == 'Westminster':\n",
    "            search_borough = \"City of Westminster, Greater London, United Kingdom\"\n",
    "      #  elif borough == 'Lambeth':\n",
    "       #     borough + \", London, Greater London, United Kingdom\"\n",
    "        else:\n",
    "            search_borough = borough + \", Greater London, United Kingdom\"\n",
    "            \n",
    "        search_borough =search_borough.replace(\" \", \"%20\")\n",
    "        # create the API request URL\n",
    "        url = 'https://api.foursquare.com/v2/venues/explore?&client_id={}&client_secret={}&v={}&near={}&limit={}'.format(\n",
    "            CLIENT_ID, \n",
    "            CLIENT_SECRET, \n",
    "            VERSION, \n",
    "            search_borough, \n",
    "            LIMIT)\n",
    "        print(url)      \n",
    "        # make the GET request\n",
    "        results = requests.get(url).json()[\"response\"]['groups'][0]['items']\n",
    "      #  print(results)\n",
    "        # return only relevant information for each nearby venue\n",
    "        venues_list.append([(\n",
    "            borough, \n",
    "            v['venue']['name'], \n",
    "            v['venue']['location']['lat'], \n",
    "            v['venue']['location']['lng'],  \n",
    "            v['venue']['categories'][0]['name']) for v in results])\n",
    "\n",
    "    nearby_venues = pd.DataFrame([item for venue_list in venues_list for item in venue_list])\n",
    "    nearby_venues.columns = ['Borough',  \n",
    "                  'Venue', \n",
    "                  'Venue Latitude', \n",
    "                  'Venue Longitude', \n",
    "                  'Venue Category']\n",
    "    \n",
    "    return(nearby_venues)"
   ]
  },
  {
   "cell_type": "markdown",
   "id": "2e22424f-16c0-4c17-b137-9bb4e51d5e8d",
   "metadata": {},
   "source": [
    "> Retrieve venues for each London borough"
   ]
  },
  {
   "cell_type": "code",
   "execution_count": null,
   "id": "cbc97c80-775e-4530-8d9e-7e7a809e4f46",
   "metadata": {},
   "outputs": [],
   "source": [
    "borough_venues = getLondonBoroughVenues(boroughs=boroughs.index)\n",
    "#london_venues = getLondonBoroughVenues(['City of London'])\n",
    "\n",
    "print(borough_venues.shape)\n",
    "borough_venues.head()"
   ]
  },
  {
   "cell_type": "markdown",
   "id": "8d61caf3-6255-4bd8-b9bd-12057ca97064",
   "metadata": {},
   "source": [
    "**Observation:** Immediate inspection of this, applying local knowledge, shows an issue - the City of London results are from all over London, not just within the \"City of London\".  This can be demonstrated by plotting on a map. \n",
    "\n",
    "As the city of London is a unique case, a different coordinate approach could be used."
   ]
  },
  {
   "cell_type": "code",
   "execution_count": null,
   "id": "5ab44fea-5918-40ce-b18f-6cf570f5b900",
   "metadata": {},
   "outputs": [],
   "source": [
    "localBorough =\"City of London\"\n",
    "\n",
    "localLng = boroughs.loc[localBorough, \"longitude\"]\n",
    "locallat = boroughs.loc[localBorough, \"latitude\"]\n",
    "local_venues = borough_venues.set_index('Borough').loc[[localBorough]]\n",
    "\n",
    "# create map\n",
    "lnd_geo = r'london_boroughs_proper.geojson'\n",
    "lnd_map = folium.Map(location = [locallat, localLng], zoom_start = 10, tiles=\"cartodbpositron\",)\n",
    "\n",
    "\n",
    "folium.GeoJson(lnd_geo, name=\"geojson\").add_to(lnd_map)\n",
    "\n",
    "\n",
    "# add markers to the map\n",
    "markers_colors = local_venues\n",
    "for lat, lon, poi, venue in zip(local_venues['Venue Latitude'], local_venues['Venue Longitude'], local_venues.index, local_venues['Venue']):\n",
    "    label = folium.Popup(str(venue), parse_html=True)\n",
    "    folium.CircleMarker(\n",
    "        [lat, lon],\n",
    "        radius=10,\n",
    "        popup=label,\n",
    "        color=1,\n",
    "        fill=True,\n",
    "        fill_color=1,\n",
    "        fill_opacity=0.7).add_to(lnd_map)\n",
    "       \n",
    "lnd_map"
   ]
  },
  {
   "cell_type": "code",
   "execution_count": null,
   "id": "e32121a0-d328-4322-a970-44b9830d4954",
   "metadata": {},
   "outputs": [],
   "source": [
    "#london_venues.to_csv('borough_venues17Juneall.csv')\n",
    "borough_venues = pd.read_csv('borough_venues17Juneall.csv')"
   ]
  },
  {
   "cell_type": "markdown",
   "id": "af6ff327-639a-48bb-9e1c-2475df278759",
   "metadata": {},
   "source": [
    "Looking at the data returned"
   ]
  },
  {
   "cell_type": "code",
   "execution_count": null,
   "id": "2bcfe0da-7112-4190-9db3-595f46bf1ef8",
   "metadata": {},
   "outputs": [],
   "source": [
    "print('There are {} uniques categories of venue.'.format(len(borough_venues['Venue Category'].unique())))"
   ]
  },
  {
   "cell_type": "code",
   "execution_count": null,
   "id": "088919c2-9059-4763-9463-e76b25cb3e51",
   "metadata": {},
   "outputs": [],
   "source": [
    "borough_venues.groupby('Borough').count()['Venue']"
   ]
  },
  {
   "cell_type": "markdown",
   "id": "ec98701e-fe6b-4a46-8441-512cba4a4de9",
   "metadata": {},
   "source": [
    "**Observation:** There is substantial variation in the amount of data avaiable at borough level, many exceed the max Foursquare venue limit (100), whereas other have significantly less.  Where the limit is exceeded, the results will be the most recommended venues, but may not represent the diverity of venue present."
   ]
  },
  {
   "cell_type": "markdown",
   "id": "85e8fd17-870c-4e47-b01c-b2556af51a9e",
   "metadata": {},
   "source": [
    "Looking more closely at Newham results"
   ]
  },
  {
   "cell_type": "code",
   "execution_count": null,
   "id": "4c78d0ec-fcc8-4fa2-8a27-8915a4fb9e17",
   "metadata": {},
   "outputs": [],
   "source": [
    "localBorough =\"Newham\"\n",
    "\n",
    "localLng = boroughs.loc[localBorough, \"longitude\"]\n",
    "locallat = boroughs.loc[localBorough, \"latitude\"]\n",
    "local_venues = borough_venues.set_index('Borough').loc[[localBorough]]\n",
    "\n",
    "# create map\n",
    "lnd_geo = r'london_boroughs_proper.geojson'\n",
    "lnd_map = folium.Map(location = [locallat, localLng], zoom_start = 12, tiles=\"cartodbpositron\",)\n",
    "\n",
    "#london_merged['Borough label']= london_merged.index\n",
    "\n",
    "\n",
    "folium.GeoJson(lnd_geo, name=\"geojson\").add_to(lnd_map)\n",
    "\n",
    "\n",
    "# add markers to the map\n",
    "markers_colors = local_venues\n",
    "for lat, lon, poi, venue in zip(local_venues['Venue Latitude'], local_venues['Venue Longitude'], local_venues.index, local_venues['Venue']):\n",
    "    label = folium.Popup(str(venue), parse_html=True)\n",
    "    folium.CircleMarker(\n",
    "        [lat, lon],\n",
    "        radius=10,\n",
    "        popup=label,\n",
    "        color=1,\n",
    "        fill=True,\n",
    "        fill_color=1,\n",
    "        fill_opacity=0.7).add_to(lnd_map)\n",
    "       \n",
    "lnd_map"
   ]
  },
  {
   "cell_type": "markdown",
   "id": "cb4f7e2b-7595-4722-b697-58b860647559",
   "metadata": {},
   "source": [
    "Newham venues are not exclusively in Newham, including a sizeable cluster in Tower Hamlets. For those not familiar with London, Newham is the borough containing West Ham and Eastham. Tower Hamlets is the borough containing Bow and Whitechapel.\n",
    "\n",
    "Looking more closely at Richmond upon Thames results"
   ]
  },
  {
   "cell_type": "code",
   "execution_count": null,
   "id": "725d92eb-4c23-43fc-a2e6-89edcb989265",
   "metadata": {},
   "outputs": [],
   "source": [
    "localBorough =\"Richmond upon Thames\"\n",
    "\n",
    "localLng = boroughs.loc[localBorough, \"longitude\"]\n",
    "locallat = boroughs.loc[localBorough, \"latitude\"]\n",
    "local_venues = borough_venues.set_index('Borough').loc[[localBorough]]\n",
    "\n",
    "# create map\n",
    "lnd_geo = r'london_boroughs_proper.geojson'\n",
    "lnd_map = folium.Map(location = [locallat, localLng], zoom_start = 12, tiles=\"cartodbpositron\",)\n",
    "\n",
    "#london_merged['Borough label']= london_merged.index\n",
    "\n",
    "\n",
    "folium.GeoJson(lnd_geo, name=\"geojson\").add_to(lnd_map)\n",
    "\n",
    "\n",
    "# add markers to the map\n",
    "markers_colors = local_venues\n",
    "for lat, lon, poi, venue in zip(local_venues['Venue Latitude'], local_venues['Venue Longitude'], local_venues.index, local_venues['Venue']):\n",
    "    label = folium.Popup(str(venue), parse_html=True)\n",
    "    folium.CircleMarker(\n",
    "        [lat, lon],\n",
    "        radius=10,\n",
    "        popup=label,\n",
    "        color=1,\n",
    "        fill=True,\n",
    "        fill_color=1,\n",
    "        fill_opacity=0.7).add_to(lnd_map)\n",
    "       \n",
    "lnd_map"
   ]
  },
  {
   "cell_type": "markdown",
   "id": "fad468bf-3063-46c2-b2df-ec5f141c5faa",
   "metadata": {},
   "source": [
    "These venues are mainly in the borough (borough containing Teddington), but not exclusively, and do not seem to be taken from the entire borough.\n",
    "\n",
    "Looking more closely at Hounslow results"
   ]
  },
  {
   "cell_type": "code",
   "execution_count": null,
   "id": "79dfbbec-bd9f-4577-8d78-ccc8907c017d",
   "metadata": {},
   "outputs": [],
   "source": [
    "localBorough =\"Hounslow\"\n",
    "\n",
    "localLng = boroughs.loc[localBorough, \"longitude\"]\n",
    "locallat = boroughs.loc[localBorough, \"latitude\"]\n",
    "local_venues = borough_venues.set_index('Borough').loc[[localBorough]]\n",
    "\n",
    "# create map\n",
    "lnd_geo = r'london_boroughs_proper.geojson'\n",
    "lnd_map = folium.Map(location = [locallat, localLng], zoom_start = 12, tiles=\"cartodbpositron\",)\n",
    "\n",
    "#london_merged['Borough label']= london_merged.index\n",
    "\n",
    "\n",
    "folium.GeoJson(lnd_geo, name=\"geojson\").add_to(lnd_map)\n",
    "\n",
    "\n",
    "# add markers to the map\n",
    "markers_colors = local_venues\n",
    "for lat, lon, poi, venue in zip(local_venues['Venue Latitude'], local_venues['Venue Longitude'], local_venues.index, local_venues['Venue']):\n",
    "    label = folium.Popup(str(venue), parse_html=True)\n",
    "    folium.CircleMarker(\n",
    "        [lat, lon],\n",
    "        radius=10,\n",
    "        popup=label,\n",
    "        color=1,\n",
    "        fill=True,\n",
    "        fill_color=1,\n",
    "        fill_opacity=0.7).add_to(lnd_map)\n",
    "       \n",
    "lnd_map"
   ]
  },
  {
   "cell_type": "markdown",
   "id": "2d5b8115-45af-4927-bc84-dbad96d71c2b",
   "metadata": {},
   "source": [
    "**Observation:** The foursquare API  is not returning comprehensive or exclusive results for each borough. \n",
    "\n",
    "In some instances it appears to be using a simplified representation of a London borough, defined by just two coordinates, due to the highly irregular shapes of London boroughs this resulting in inaccurate responses.\n",
    "\n",
    "In other instances results appear to be clustered around a location within the borough."
   ]
  },
  {
   "cell_type": "markdown",
   "id": "593b38dc-b27a-4b8e-9308-999df22079d2",
   "metadata": {},
   "source": [
    "### Conclusion\n",
    "Foursquares API is not suitable to obtain data at a borough level, for comparison with borough level crime data.  However other datasources exist which indicate venues and industries present at a borough level. These can be used for further investigation."
   ]
  },
  {
   "cell_type": "markdown",
   "id": "e5583713-b2d8-4303-a405-f7d70bed346d",
   "metadata": {},
   "source": [
    "## 2. Wards"
   ]
  },
  {
   "cell_type": "markdown",
   "id": "d6073908-e71b-4556-876b-f2f5101dd25c",
   "metadata": {},
   "source": [
    "Wards are not geocodable and no set of coordinates located for central points. Further they do not represent communitiy centres, so may lack venues"
   ]
  },
  {
   "cell_type": "markdown",
   "id": "289d9720-ebc1-4ef8-9aa1-38702e2205b0",
   "metadata": {},
   "source": [
    "## 3. Neighbourhoods"
   ]
  },
  {
   "cell_type": "markdown",
   "id": "245bb7de-96cd-4dc5-ae78-ab97081e56ee",
   "metadata": {},
   "source": [
    "> Define a function to obtain neighbourhood venues from foursquare.  This takes the following parameters\n"
   ]
  },
  {
   "cell_type": "markdown",
   "id": "d3babebb-2324-47a9-9e84-1462d66c8cf7",
   "metadata": {},
   "source": [
    "Parameter | Usage\n",
    "---|---\n",
    " names| A list of neighbourhood names to search for. These will be presumed to be in London.\n",
    " latitudes| The coresponding list of latitude coordinates, to be used if name search fails. \n",
    " longitudes| The coresponding list of longitude coordinates, to be used if name search fails.  \n",
    " isLondons| The coresponding flag as to whether or not the neighbourhood has a London postal address. This will be used to determine search radius if coordinates used"
   ]
  },
  {
   "cell_type": "code",
   "execution_count": null,
   "id": "de26ab1c-79a9-46bb-ade0-b72c9698fb69",
   "metadata": {},
   "outputs": [],
   "source": [
    "def getNearbyVenues(names, latitudes, longitudes, isLondons):\n",
    "    errCount =0\n",
    "    errTolerance=500 #allow a tolerance failed requests before exiting as there is probably a systematic issue with connection to investigate (for example exceed foursquare account limit)\n",
    "    venues_list=[]\n",
    "   # for name in names:\n",
    "    for name, lat, lng, isLondon in zip(names, latitudes, longitudes, isLondons):\n",
    "       \n",
    "        neighbourhood = name + \" London, United Kingdom\"\n",
    "        neighbourhood = neighbourhood.replace(' ', '%20')\n",
    "        # create the API request URL, based on rhe neigbhourhood name\n",
    "        url = 'https://api.foursquare.com/v2/venues/explore?&client_id={}&client_secret={}&v={}&near={}&limit={}'.format(\n",
    "            CLIENT_ID, \n",
    "            CLIENT_SECRET, \n",
    "            VERSION, \n",
    "            neighbourhood, \n",
    "            LIMIT)\n",
    "\n",
    "        radius=0\n",
    "        # make the GET request\n",
    "        try:\n",
    "            response = requests.get(url)\n",
    "            results = response.json()[\"response\"]['groups'][0]['items']\n",
    "            \n",
    "                \n",
    "            # return only relevant information for each nearby venue\n",
    "            venues_list.append([(\n",
    "                name, \n",
    "                lat, \n",
    "                lng, \n",
    "                v['venue']['name'], \n",
    "                v['venue']['location']['lat'], \n",
    "                v['venue']['location']['lng'],  \n",
    "                v['venue']['categories'][0]['name'],\n",
    "                True) for v in results])\n",
    "        except:\n",
    "            \n",
    "            errType = response.json()[\"meta\"]['errorType']\n",
    "            if  errType =='failed_geocode':\n",
    "                    #if the neighbourhood wasn't recognised use central coordinate and radius - use a larger radius for neighbourhoods outside central london\n",
    "                if isLondon ==True:\n",
    "                    radius = 600\n",
    "                else:\n",
    "                    radius= 1200\n",
    "                        \n",
    "                try:\n",
    "                    url = 'https://api.foursquare.com/v2/venues/explore?&client_id={}&client_secret={}&v={}&ll={},{}&radius={}&limit={}'.format(\n",
    "                        CLIENT_ID, \n",
    "                        CLIENT_SECRET, \n",
    "                        VERSION, \n",
    "                        lat, \n",
    "                        lng,\n",
    "                        radius, \n",
    "                        LIMIT)                        \n",
    "                        \n",
    "                    response = requests.get(url)\n",
    "                    results = response.json()[\"response\"]['groups'][0]['items']\n",
    "            \n",
    "                \n",
    "                    # return only relevant information for each nearby venue\n",
    "                    venues_list.append([(\n",
    "                        name, \n",
    "                        lat, \n",
    "                        lng, \n",
    "                        v['venue']['name'], \n",
    "                        v['venue']['location']['lat'], \n",
    "                        v['venue']['location']['lng'],  \n",
    "                        v['venue']['categories'][0]['name'], \n",
    "                        False) for v in results])     \n",
    "  \n",
    "                        \n",
    "                except: \n",
    "           \n",
    "                    errCount = errCount +1\n",
    "               # if the request has failed continue with next item and provide url\n",
    "                    print('Error with  coordinate request for ' + name +' ' + url )\n",
    "                    print(str(response.json()[\"meta\"]))                    \n",
    "                    if errCount>errTolerance:\n",
    "                        return(pd.DataFrame())\n",
    "            else:        \n",
    "                errCount = errCount +1\n",
    "            # if the request has failed continue with next item and provide url\n",
    "                print('Error with neighbourhood request for ' + name +' ' + url + ' ' + str(response.json()[\"response\"]))\n",
    "                print(str(response.json()[\"meta\"]))\n",
    "            \n",
    "                if errCount>errTolerance:\n",
    "                    return(pd.DataFrame()) #This is only expected to happen with connection issues\n",
    "            \n",
    "            \n",
    "    nearby_venues = pd.DataFrame([item for venue_list in venues_list for item in venue_list])\n",
    "    nearby_venues.columns = ['Neighborhood', \n",
    "                  'Neighborhood Latitude', \n",
    "                  'Neighborhood Longitude', \n",
    "                  'Venue', \n",
    "                  'Venue Latitude', \n",
    "                  'Venue Longitude', \n",
    "                  'Venue Category',\n",
    "                  'Neighborhood Geocodable']\n",
    "    \n",
    "    return(nearby_venues)"
   ]
  },
  {
   "cell_type": "markdown",
   "id": "64b443c0-1e4b-44ee-8275-3c452e1595e6",
   "metadata": {},
   "source": [
    "> Obtain venues for all neighbourhoods"
   ]
  },
  {
   "cell_type": "code",
   "execution_count": null,
   "id": "25f57d05-dc4f-4473-883f-7013213ca7d9",
   "metadata": {},
   "outputs": [],
   "source": [
    "\n",
    "neighbourhood_venues = getNearbyVenues(names=wiki_df['Location'],\n",
    "                            latitudes=wiki_df['latitude'],\n",
    "                            longitudes=wiki_df['longitude'],\n",
    "                            isLondons=wiki_df['Post town']=='LONDON'\n",
    "                            )\n",
    "\n",
    "print(neighbourhood_venues.shape)\n",
    "neighbourhood_venues.head()"
   ]
  },
  {
   "cell_type": "markdown",
   "id": "3437456c-36e1-46bb-a1af-c3af42d33cc4",
   "metadata": {},
   "source": [
    "> The defined function distinguishes between neighbourhoods foursquare could and could not geocode. Radius search has been used where foursquare could not geocode"
   ]
  },
  {
   "cell_type": "code",
   "execution_count": null,
   "id": "150f643b-6742-437a-82ed-85e737ab1485",
   "metadata": {},
   "outputs": [],
   "source": [
    "#summarise how many results from each request type (geocode/coords)\n",
    "\n",
    "neighbourhood_venues.groupby(['Neighborhood Geocodable', 'Neighborhood']).count().groupby(['Neighborhood Geocodable']).count()['Venue']"
   ]
  },
  {
   "cell_type": "markdown",
   "id": "de52e697-2f11-4ad0-8bdb-e6525e10effe",
   "metadata": {},
   "source": [
    ">Save venue data to csv for use in later analysis"
   ]
  },
  {
   "cell_type": "code",
   "execution_count": null,
   "id": "01f8b6df-fd67-45e8-938b-1029e4f301d6",
   "metadata": {},
   "outputs": [],
   "source": [
    "neighbourhood_venues.to_csv('london_venues.csv')\n",
    "#neighbourhood_venues=pd.read_csv('london_venues.csv')  #HACK if want to rerun without foursquare API"
   ]
  },
  {
   "cell_type": "code",
   "execution_count": null,
   "id": "26b08c35-17f0-4eca-9ded-65719b243eb6",
   "metadata": {},
   "outputs": [],
   "source": [
    "print('There are {} uniques categories of venue.'.format(len(neighbourhood_venues['Venue Category'].unique())))"
   ]
  },
  {
   "cell_type": "markdown",
   "id": "c688ce97-ce4d-4169-9a06-26e32e03487d",
   "metadata": {},
   "source": [
    "> remove any duplicates or rows with blank values"
   ]
  },
  {
   "cell_type": "code",
   "execution_count": null,
   "id": "b21db1c5-f14b-4a77-accb-4fe3cab7ae13",
   "metadata": {},
   "outputs": [],
   "source": [
    "neighbourhood_venues=neighbourhood_venues.dropna(axis=0)\n",
    "neighbourhood_venues=neighbourhood_venues.drop_duplicates()"
   ]
  },
  {
   "cell_type": "markdown",
   "id": "9d714f4f-f881-4883-8f66-65ec5f6c4108",
   "metadata": {},
   "source": [
    "> Look at what the most popular categories are (ie once where there are more than 100 such venues)"
   ]
  },
  {
   "cell_type": "code",
   "execution_count": null,
   "id": "f1cb9f56-21e6-49ac-88bf-9038fd4742e2",
   "metadata": {},
   "outputs": [],
   "source": [
    "category_count=neighbourhood_venues.groupby(['Venue Category']).size()\n",
    "popular = category_count[category_count>100]\n",
    "popular.sort_values(ascending=False)"
   ]
  },
  {
   "cell_type": "markdown",
   "id": "ced0f48f-0863-47f1-81cc-506599fc1d4c",
   "metadata": {},
   "source": [
    "**Observation:** Pubs, Coffee Shops, Grocery Stores, Cafés and Parks are the most popular.  Noted that bus stops and petrol (gas) stations feature highly.\n",
    "\n",
    "\n",
    "    "
   ]
  },
  {
   "cell_type": "markdown",
   "id": "16d2fd1a-931a-4b09-8bf7-b3b3bb949f44",
   "metadata": {},
   "source": [
    "Peform a sense check on the data - consider a neighbourhood where venues are known and see if those returned make sense.  Plot on map to visualise."
   ]
  },
  {
   "cell_type": "code",
   "execution_count": null,
   "id": "d43265b0-09ea-46b4-a251-025a179e7ee0",
   "metadata": {},
   "outputs": [],
   "source": [
    "sense_check = neighbourhood_venues[neighbourhood_venues['Neighborhood']=='Leyton']\n",
    "sense_check"
   ]
  },
  {
   "cell_type": "code",
   "execution_count": null,
   "id": "e0cebce8-8d96-4a60-9846-9a22ab545b72",
   "metadata": {},
   "outputs": [],
   "source": [
    "\n",
    "neighborhoodLng=list(sense_check['Neighborhood Longitude'])[0]\n",
    "neighborhoodLat=list(sense_check['Neighborhood Latitude'])[0]\n",
    "# create map centre on the neighbourhood under examination\n",
    "lnd_geo = r'london_boroughs_proper.geojson'\n",
    "lnd_map = folium.Map(location = [neighborhoodLat, neighborhoodLng], zoom_start = 13)\n",
    "\n",
    "\n",
    "\n",
    "folium.GeoJson(lnd_geo, name=\"geojson\").add_to(lnd_map)\n",
    "\n",
    "\n",
    "# add markers to the map for venues\n",
    "\n",
    "for lat, lon, poi, venue in zip(sense_check['Venue Latitude'], sense_check['Venue Longitude'], sense_check.index, sense_check['Venue']):\n",
    "    label = folium.Popup(str(venue), parse_html=True)\n",
    "    folium.CircleMarker(\n",
    "        [lat, lon],\n",
    "        radius=4,\n",
    "        popup=label,\n",
    "        color=1,\n",
    "        fill=True,\n",
    "        fill_color=1,\n",
    "        fill_opacity=0.7).add_to(lnd_map)\n",
    "    \n",
    "#add marker to map for neighbourhood coordinates\n",
    "folium.CircleMarker(\n",
    "    [neighborhoodLat, neighborhoodLng],\n",
    "    radius=5,\n",
    "    color=\"red\",\n",
    "    fill=True,\n",
    "    fill_color=\"red\",\n",
    "    fill_opacity=0.7).add_to(lnd_map)      \n",
    "lnd_map"
   ]
  },
  {
   "cell_type": "markdown",
   "id": "d3d7d8f4-ee80-4446-a244-d62c96608039",
   "metadata": {},
   "source": [
    "The red circle shows the geocoder cordinates for leyton, the black dots show the venues returned. Applying local knowledge with a couple of exceptions the venues are within what would be considered leyton.\n",
    "\n",
    "Repeat for Forest Gate"
   ]
  },
  {
   "cell_type": "code",
   "execution_count": null,
   "id": "5db5ef16-9a6a-45e4-ae6b-a05f08292a14",
   "metadata": {},
   "outputs": [],
   "source": [
    "sense_check = neighbourhood_venues[neighbourhood_venues['Neighborhood']=='Forest Gate']\n",
    "sense_check"
   ]
  },
  {
   "cell_type": "code",
   "execution_count": null,
   "id": "b97dfee3-fc77-49ae-bd1f-e09cd4b87be8",
   "metadata": {},
   "outputs": [],
   "source": [
    "\n",
    "neighborhoodLng=list(sense_check['Neighborhood Longitude'])[0]\n",
    "neighborhoodLat=list(sense_check['Neighborhood Latitude'])[0]\n",
    "# create map centred on neighbourhood\n",
    "lnd_geo = r'london_boroughs_proper.geojson'\n",
    "lnd_map = folium.Map(location = [neighborhoodLat, neighborhoodLng], zoom_start = 13)\n",
    "\n",
    "folium.GeoJson(lnd_geo, name=\"geojson\").add_to(lnd_map)\n",
    "\n",
    "\n",
    "# add markers to the map for venues\n",
    "\n",
    "for lat, lon, poi, venue in zip(sense_check['Venue Latitude'], sense_check['Venue Longitude'], sense_check.index, sense_check['Venue']):\n",
    "    label = folium.Popup(str(venue), parse_html=True)\n",
    "    folium.CircleMarker(\n",
    "        [lat, lon],\n",
    "        radius=4,\n",
    "        popup=label,\n",
    "        color=1,\n",
    "        fill=True,\n",
    "        fill_color=1,\n",
    "        fill_opacity=0.7).add_to(lnd_map)\n",
    "    \n",
    "folium.CircleMarker(\n",
    "    [neighborhoodLat, neighborhoodLng],\n",
    "    radius=5,\n",
    "    color=\"red\",\n",
    "    fill=True,\n",
    "    fill_color=\"red\",\n",
    "    fill_opacity=0.7).add_to(lnd_map)      \n",
    "lnd_map"
   ]
  },
  {
   "cell_type": "markdown",
   "id": "548e14b2-00da-4bd0-9b48-eb515a5a4eb4",
   "metadata": {},
   "source": [
    "The venues follow a not unreasonable but quite generous definition of forest gate\n",
    "\n",
    "## Remove neighbourhoods with less than 10 categories of venues retrieved, as there is insufficient data to conduct meaningful analysis"
   ]
  },
  {
   "cell_type": "code",
   "execution_count": null,
   "id": "3f3235f2-a54a-4428-97be-c5743845fbc6",
   "metadata": {},
   "outputs": [],
   "source": [
    "venue_count =neighbourhood_venues.groupby(['Neighborhood', 'Venue Category'])['Venue'].count()\n",
    "venue_category_count=venue_count.groupby(['Neighborhood']).count()\n",
    "limited_venues_categories = venue_category_count[venue_category_count<10]\n",
    "limited_venues_categories"
   ]
  },
  {
   "cell_type": "code",
   "execution_count": null,
   "id": "e44d1831-d7d6-4bd0-966a-815855a0df96",
   "metadata": {},
   "outputs": [],
   "source": [
    "venue_count =neighbourhood_venues.groupby(['Neighborhood'])['Venue'].count()\n",
    "limited_venues = venue_count[venue_count<10]\n",
    "limited_venues"
   ]
  },
  {
   "cell_type": "markdown",
   "id": "7dfe6cd2-83f9-4424-a29f-48c7f361a3ab",
   "metadata": {},
   "source": [
    "Remove neighbourhoods with limited venue data"
   ]
  },
  {
   "cell_type": "code",
   "execution_count": null,
   "id": "76ad4502-9e08-4a9f-b72b-c66c75692dfe",
   "metadata": {},
   "outputs": [],
   "source": [
    "#remove neighbourhoods with limited venue data\n",
    "#insufficient categories\n",
    "indexNames = neighbourhood_venues[neighbourhood_venues['Neighborhood'].isin(limited_venues_categories.index)].index\n",
    "neighbourhood_venues_with_data=neighbourhood_venues.drop(indexNames)"
   ]
  },
  {
   "cell_type": "code",
   "execution_count": null,
   "id": "4e847b3c-6671-4cfc-9d06-a83daa3eeb7d",
   "metadata": {},
   "outputs": [],
   "source": [
    "neighbourhood_venues_with_data.head()"
   ]
  },
  {
   "cell_type": "code",
   "execution_count": null,
   "id": "05da43f4-49e6-46f2-84e9-72a542135978",
   "metadata": {},
   "outputs": [],
   "source": [
    "neighbourhood_venues_with_data.to_csv('cleaned_neighborhood_venue.csv')"
   ]
  },
  {
   "cell_type": "code",
   "execution_count": null,
   "id": "545674cb-f5f9-4e06-b49e-a3e880b1bf42",
   "metadata": {},
   "outputs": [],
   "source": [
    "full_neigbourhoods = neighbourhood_venues[neighbourhood_venues['Neighborhood Geocodable']==True]\n",
    "full_neigbourhoods.groupby(['Neighborhood'])['Venue Category'].size()"
   ]
  },
  {
   "cell_type": "code",
   "execution_count": null,
   "id": "b0b08529-b7b8-46c3-b9e3-450032724aef",
   "metadata": {},
   "outputs": [],
   "source": []
  }
 ],
 "metadata": {
  "kernelspec": {
   "display_name": "Python 3",
   "language": "python",
   "name": "python3"
  },
  "language_info": {
   "codemirror_mode": {
    "name": "ipython",
    "version": 3
   },
   "file_extension": ".py",
   "mimetype": "text/x-python",
   "name": "python",
   "nbconvert_exporter": "python",
   "pygments_lexer": "ipython3",
   "version": "3.9.1"
  }
 },
 "nbformat": 4,
 "nbformat_minor": 5
}
