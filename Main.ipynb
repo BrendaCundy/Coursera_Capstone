{
 "cells": [
  {
   "cell_type": "markdown",
   "id": "797029e8-2e0d-47eb-b79f-853ae3da08e5",
   "metadata": {},
   "source": [
    "This notebook will mainly be used for the applied data science capstone project, taken as part of the IBM Data Science Professional certificate."
   ]
  },
  {
   "cell_type": "code",
   "execution_count": null,
   "id": "d6a0c1ce-a7e6-4f86-a3e4-35b872d9949b",
   "metadata": {},
   "outputs": [],
   "source": [
    "import pandas as pd\n",
    "import numpy as np "
   ]
  },
  {
   "cell_type": "code",
   "execution_count": 2,
   "id": "9188bbe2-b440-45a8-a16b-c978d56ef521",
   "metadata": {},
   "outputs": [
    {
     "name": "stdout",
     "output_type": "stream",
     "text": [
      "Hello Capstone Project Course!\n"
     ]
    }
   ],
   "source": [
    "print('Hello Capstone Project Course!')"
   ]
  },
  {
   "cell_type": "code",
   "execution_count": null,
   "id": "150cb6fc-d8ff-454e-add0-3a83118caf6e",
   "metadata": {},
   "outputs": [],
   "source": []
  }
 ],
 "metadata": {
  "kernelspec": {
   "display_name": "Python 3",
   "language": "python",
   "name": "python3"
  },
  "language_info": {
   "codemirror_mode": {
    "name": "ipython",
    "version": 3
   },
   "file_extension": ".py",
   "mimetype": "text/x-python",
   "name": "python",
   "nbconvert_exporter": "python",
   "pygments_lexer": "ipython3",
   "version": "3.9.1"
  }
 },
 "nbformat": 4,
 "nbformat_minor": 5
}
